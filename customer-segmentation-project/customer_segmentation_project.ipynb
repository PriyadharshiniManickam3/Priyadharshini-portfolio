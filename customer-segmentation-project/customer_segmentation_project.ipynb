{
 "cells": [
  {
   "cell_type": "markdown",
   "id": "a44e8bcc",
   "metadata": {},
   "source": [
    "# Customer Segmentation using K-Means Clustering"
   ]
  },
  {
   "cell_type": "code",
   "execution_count": null,
   "id": "b7f31929",
   "metadata": {},
   "outputs": [],
   "source": [
    "\n",
    "import pandas as pd\n",
    "import matplotlib.pyplot as plt\n",
    "import seaborn as sns\n",
    "from sklearn.cluster import KMeans\n",
    "\n",
    "# Load dataset\n",
    "data = pd.read_csv(\"customer_segmentation.csv\")\n",
    "data.head()\n"
   ]
  },
  {
   "cell_type": "markdown",
   "id": "8611975b",
   "metadata": {},
   "source": [
    "## Preprocessing and Feature Selection"
   ]
  },
  {
   "cell_type": "code",
   "execution_count": null,
   "id": "e23421ee",
   "metadata": {},
   "outputs": [],
   "source": [
    "\n",
    "# Select features for clustering\n",
    "X = data[[\"Annual Income (k$)\", \"Spending Score\"]]\n"
   ]
  },
  {
   "cell_type": "markdown",
   "id": "f132f016",
   "metadata": {},
   "source": [
    "## KMeans Clustering"
   ]
  },
  {
   "cell_type": "code",
   "execution_count": null,
   "id": "71b0b1e0",
   "metadata": {},
   "outputs": [],
   "source": [
    "\n",
    "# Apply KMeans\n",
    "kmeans = KMeans(n_clusters=4, random_state=42)\n",
    "data[\"Cluster\"] = kmeans.fit_predict(X)\n",
    "data.head()\n"
   ]
  },
  {
   "cell_type": "markdown",
   "id": "863bcad0",
   "metadata": {},
   "source": [
    "## Cluster Visualization"
   ]
  },
  {
   "cell_type": "code",
   "execution_count": null,
   "id": "3a5bce04",
   "metadata": {},
   "outputs": [],
   "source": [
    "\n",
    "# Plot clusters\n",
    "plt.figure(figsize=(8, 6))\n",
    "sns.scatterplot(x=\"Annual Income (k$)\", y=\"Spending Score\", hue=\"Cluster\",\n",
    "                palette=\"Set1\", data=data, s=100)\n",
    "plt.title(\"Customer Segmentation (KMeans Clusters)\")\n",
    "plt.xlabel(\"Annual Income (k$)\")\n",
    "plt.ylabel(\"Spending Score\")\n",
    "plt.legend(title=\"Cluster\")\n",
    "plt.grid(True)\n",
    "plt.show()\n"
   ]
  }
 ],
 "metadata": {},
 "nbformat": 4,
 "nbformat_minor": 5
}
